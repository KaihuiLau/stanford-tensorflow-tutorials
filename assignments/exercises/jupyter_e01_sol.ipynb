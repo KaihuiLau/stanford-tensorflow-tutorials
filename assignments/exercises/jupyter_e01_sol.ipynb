{
 "cells": [
  {
   "cell_type": "markdown",
   "metadata": {},
   "source": [
    "# Simple TensorFlow exercises\n",
    "You should thoroughly test your code"
   ]
  },
  {
   "cell_type": "code",
   "execution_count": 1,
   "metadata": {
    "collapsed": true
   },
   "outputs": [],
   "source": [
    "import tensorflow as tf"
   ]
  },
  {
   "cell_type": "markdown",
   "metadata": {},
   "source": [
    "**1a**: Create two random 0-d tensors x and y of any distribution.<br/>\n",
    "Create a TensorFlow object that returns x + y if x > y, and x - y otherwise.<br/>\n",
    "_Hint_: look up tf.cond()"
   ]
  },
  {
   "cell_type": "code",
   "execution_count": null,
   "metadata": {
    "collapsed": true
   },
   "outputs": [],
   "source": []
  },
  {
   "cell_type": "markdown",
   "metadata": {},
   "source": [
    "__1b__: Create two 0-d tensors x and y randomly selected from the range [-1, 1).<br/>\n",
    "Return x + y if x < y, x - y if x > y, 0 otherwise.<br/>\n",
    "_Hint_: Look up tf.case().<br/>"
   ]
  },
  {
   "cell_type": "code",
   "execution_count": null,
   "metadata": {
    "collapsed": true
   },
   "outputs": [],
   "source": []
  },
  {
   "cell_type": "markdown",
   "metadata": {},
   "source": [
    "__1c__: Create the tensor x of the value [[0, -2, -1], [0, 1, 2]] and y as a tensor of zeros with the same shape as x.<br/>\n",
    "Return a boolean tensor that yields Trues if x equals y element-wise.<br/>\n",
    "_Hint_: Look up tf.equal()."
   ]
  },
  {
   "cell_type": "code",
   "execution_count": null,
   "metadata": {
    "collapsed": true
   },
   "outputs": [],
   "source": []
  },
  {
   "cell_type": "markdown",
   "metadata": {},
   "source": [
    "__1d__: Create the tensor x of value<br/>\n",
    " [29.05088806,  27.61298943,  31.19073486,  29.35532951,<br/>\n",
    "  30.97266006,  26.67541885,  38.08450317,  20.74983215,<br/>\n",
    "  34.94445419,  34.45999146,  29.06485367,  36.01657104,<br/>\n",
    "  27.88236427,  20.56035233,  30.20379066,  29.51215172,<br/>\n",
    "  33.71149445,  28.59134293,  36.05556488,  28.66994858].<br/>\n",
    "Get the indices of elements in x whose values are greater than 30.<br/>\n",
    "_Hint_: Use tf.where().<br/>\n",
    "Then extract elements whose values are greater than 30.<br/>\n",
    "_Hint_: Use tf.gather().<br/>"
   ]
  },
  {
   "cell_type": "code",
   "execution_count": null,
   "metadata": {
    "collapsed": true
   },
   "outputs": [],
   "source": []
  },
  {
   "cell_type": "markdown",
   "metadata": {},
   "source": [
    "__1e__: Create a diagnoal 2-d tensor of size 6 x 6 with the diagonal values of 1, 2, ..., 6<br/>\n",
    "_Hint_: Use tf.range() and tf.diag().<br/>"
   ]
  },
  {
   "cell_type": "code",
   "execution_count": null,
   "metadata": {
    "collapsed": true
   },
   "outputs": [],
   "source": []
  },
  {
   "cell_type": "markdown",
   "metadata": {},
   "source": [
    "__1f__: Create a random 2-d tensor of size 10 x 10 from any distribution.<br/>\n",
    "Calculate its determinant.<br/>\n",
    "_Hint_: Look at tf.matrix_determinant()."
   ]
  },
  {
   "cell_type": "code",
   "execution_count": null,
   "metadata": {
    "collapsed": true
   },
   "outputs": [],
   "source": []
  },
  {
   "cell_type": "markdown",
   "metadata": {},
   "source": [
    "__1g__: Create tensor x with value [5, 2, 3, 5, 10, 6, 2, 3, 4, 2, 1, 1, 0, 9].<br/>\n",
    "Return the unique elements in x<br/>\n",
    "_Hint_: use tf.unique(). Keep in mind that tf.unique() returns a tuple.<br/>"
   ]
  },
  {
   "cell_type": "code",
   "execution_count": null,
   "metadata": {
    "collapsed": true
   },
   "outputs": [],
   "source": []
  },
  {
   "cell_type": "markdown",
   "metadata": {},
   "source": [
    "__1h__: Create two tensors x and y of shape 300 from any normal distribution, as long as they are from the same distribution.<br/>\n",
    "Use tf.cond() to return:<br/>\n",
    " - The mean squared error of (x - y) if the average of all elements in (x - y) is negative, or\n",
    " - The sum of absolute value of all elements in the tensor (x - y) otherwise.<br/>\n",
    "_Hint_: see the Huber loss function in the lecture slides 3."
   ]
  },
  {
   "cell_type": "code",
   "execution_count": null,
   "metadata": {
    "collapsed": true
   },
   "outputs": [],
   "source": []
  }
 ],
 "metadata": {
  "anaconda-cloud": {},
  "kernelspec": {
   "display_name": "Python [conda env:tensorflow-gpu]",
   "language": "python",
   "name": "conda-env-tensorflow-gpu-py"
  },
  "language_info": {
   "codemirror_mode": {
    "name": "ipython",
    "version": 3
   },
   "file_extension": ".py",
   "mimetype": "text/x-python",
   "name": "python",
   "nbconvert_exporter": "python",
   "pygments_lexer": "ipython3",
   "version": "3.5.2"
  }
 },
 "nbformat": 4,
 "nbformat_minor": 1
}
