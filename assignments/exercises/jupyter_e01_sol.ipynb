{
 "cells": [
  {
   "cell_type": "markdown",
   "metadata": {},
   "source": [
    "# Solution to Simple TensorFlow exercises "
   ]
  },
  {
   "cell_type": "code",
   "execution_count": 1,
   "metadata": {
    "collapsed": true
   },
   "outputs": [],
   "source": [
    "import tensorflow as tf\n",
    "sess = tf.InteractiveSession()  # run your session in one line"
   ]
  },
  {
   "cell_type": "markdown",
   "metadata": {},
   "source": [
    "**1a**: Create two random 0-d tensors x and y of any distribution.<br/>\n",
    "Create a TensorFlow object that returns x + y if x > y, and x - y otherwise.<br/>\n",
    "_Hint_: look up tf.cond()"
   ]
  },
  {
   "cell_type": "code",
   "execution_count": 2,
   "metadata": {
    "collapsed": false
   },
   "outputs": [],
   "source": [
    "x = tf.random_uniform(shape=[])\n",
    "y = tf.random_uniform(shape=[])\n",
    "z = tf.cond(tf.greater(x, y), lambda: tf.add(x, y), lambda: tf.subtract(x, y))"
   ]
  },
  {
   "cell_type": "code",
   "execution_count": 3,
   "metadata": {
    "collapsed": false
   },
   "outputs": [
    {
     "name": "stdout",
     "output_type": "stream",
     "text": [
      "[0.14948964, 0.75635743, -0.60686779]\n"
     ]
    }
   ],
   "source": [
    "print(sess.run([x, y, z]))"
   ]
  },
  {
   "cell_type": "markdown",
   "metadata": {},
   "source": [
    "__1b__: Create two 0-d tensors x and y randomly selected from the range [-1, 1).<br/>\n",
    "Return x + y if x < y, x - y if x > y, 0 otherwise.<br/>\n",
    "_Hint_: Look up tf.case().<br/>"
   ]
  },
  {
   "cell_type": "code",
   "execution_count": 4,
   "metadata": {
    "collapsed": false
   },
   "outputs": [],
   "source": [
    "x = tf.random_uniform(shape=[], minval=-1, maxval=1)\n",
    "y = tf.random_uniform([], -1, 1)\n",
    "z = tf.case({tf.less(x, y): lambda: x + y,\n",
    "            tf.greater(x, y): lambda: x - y},\n",
    "            default=lambda: tf.constant(0.0), exclusive=True)"
   ]
  },
  {
   "cell_type": "code",
   "execution_count": 5,
   "metadata": {
    "collapsed": false
   },
   "outputs": [
    {
     "name": "stdout",
     "output_type": "stream",
     "text": [
      "[0.96720862, 0.31631207, 0.65089655]\n"
     ]
    }
   ],
   "source": [
    "print(sess.run([x, y, z]))"
   ]
  },
  {
   "cell_type": "markdown",
   "metadata": {},
   "source": [
    "__1c__: Create the tensor x of the value [[0, -2, -1], [0, 1, 2]] and y as a tensor of zeros with the same shape as x.<br/>\n",
    "Return a boolean tensor that yields Trues if x equals y element-wise.<br/>\n",
    "_Hint_: Look up tf.equal()."
   ]
  },
  {
   "cell_type": "code",
   "execution_count": 6,
   "metadata": {
    "collapsed": true
   },
   "outputs": [],
   "source": [
    "x = tf.constant([[0, -2, -1], [0, 1, 2]])\n",
    "y = tf.zeros_like(x)\n",
    "z = tf.equal(x, y)"
   ]
  },
  {
   "cell_type": "code",
   "execution_count": 7,
   "metadata": {
    "collapsed": false
   },
   "outputs": [
    {
     "name": "stdout",
     "output_type": "stream",
     "text": [
      "[array([[ True, False, False],\n",
      "       [ True, False, False]], dtype=bool)]\n"
     ]
    }
   ],
   "source": [
    "print(sess.run([z]))"
   ]
  },
  {
   "cell_type": "markdown",
   "metadata": {},
   "source": [
    "__1d__: Create the tensor x of value<br/>\n",
    " [29.05088806,  27.61298943,  31.19073486,  29.35532951,<br/>\n",
    "  30.97266006,  26.67541885,  38.08450317,  20.74983215,<br/>\n",
    "  34.94445419,  34.45999146,  29.06485367,  36.01657104,<br/>\n",
    "  27.88236427,  20.56035233,  30.20379066,  29.51215172,<br/>\n",
    "  33.71149445,  28.59134293,  36.05556488,  28.66994858].<br/>\n",
    "Get the indices of elements in x whose values are greater than 30.<br/>\n",
    "_Hint_: Use tf.where().<br/>\n",
    "Then extract elements whose values are greater than 30.<br/>\n",
    "_Hint_: Use tf.gather().<br/>"
   ]
  },
  {
   "cell_type": "code",
   "execution_count": 8,
   "metadata": {
    "collapsed": true
   },
   "outputs": [],
   "source": [
    "x = tf.constant([29.05088806,  27.61298943,  31.19073486,  29.35532951,\n",
    "\t\t        30.97266006,  26.67541885,  38.08450317,  20.74983215,\n",
    "\t\t        34.94445419,  34.45999146,  29.06485367,  36.01657104,\n",
    "\t\t        27.88236427,  20.56035233,  30.20379066,  29.51215172,\n",
    "\t\t        33.71149445,  28.59134293,  36.05556488,  28.66994858])\n",
    "indices = tf.where(x > 30)\n",
    "z = tf.gather(x, indices)"
   ]
  },
  {
   "cell_type": "code",
   "execution_count": 9,
   "metadata": {
    "collapsed": false
   },
   "outputs": [
    {
     "name": "stdout",
     "output_type": "stream",
     "text": [
      "[array([[ 2],\n",
      "       [ 4],\n",
      "       [ 6],\n",
      "       [ 8],\n",
      "       [ 9],\n",
      "       [11],\n",
      "       [14],\n",
      "       [16],\n",
      "       [18]], dtype=int64), array([[ 31.19073486],\n",
      "       [ 30.97266006],\n",
      "       [ 38.08450317],\n",
      "       [ 34.94445419],\n",
      "       [ 34.45999146],\n",
      "       [ 36.01657104],\n",
      "       [ 30.20379066],\n",
      "       [ 33.71149445],\n",
      "       [ 36.05556488]], dtype=float32)]\n"
     ]
    }
   ],
   "source": [
    "print(sess.run([indices, z]))"
   ]
  },
  {
   "cell_type": "markdown",
   "metadata": {},
   "source": [
    "__1e__: Create a diagnoal 2-d tensor of size 6 x 6 with the diagonal values of 1, 2, ..., 6<br/>\n",
    "_Hint_: Use tf.range() and tf.diag().<br/>"
   ]
  },
  {
   "cell_type": "code",
   "execution_count": 10,
   "metadata": {
    "collapsed": false
   },
   "outputs": [],
   "source": [
    "x = tf.range(1, 7)\n",
    "z = tf.diag(x)"
   ]
  },
  {
   "cell_type": "code",
   "execution_count": 11,
   "metadata": {
    "collapsed": false
   },
   "outputs": [
    {
     "name": "stdout",
     "output_type": "stream",
     "text": [
      "[array([1, 2, 3, 4, 5, 6]), array([[1, 0, 0, 0, 0, 0],\n",
      "       [0, 2, 0, 0, 0, 0],\n",
      "       [0, 0, 3, 0, 0, 0],\n",
      "       [0, 0, 0, 4, 0, 0],\n",
      "       [0, 0, 0, 0, 5, 0],\n",
      "       [0, 0, 0, 0, 0, 6]])]\n"
     ]
    }
   ],
   "source": [
    "print(sess.run([x, z]))"
   ]
  },
  {
   "cell_type": "markdown",
   "metadata": {},
   "source": [
    "__1f__: Create a random 2-d tensor of size 10 x 10 from any distribution.<br/>\n",
    "Calculate its determinant.<br/>\n",
    "_Hint_: Look at tf.matrix_determinant()."
   ]
  },
  {
   "cell_type": "code",
   "execution_count": 12,
   "metadata": {
    "collapsed": true
   },
   "outputs": [],
   "source": [
    "m = tf.random_normal([10, 10], mean=10, stddev=1)\n",
    "z = tf.matrix_determinant(m)"
   ]
  },
  {
   "cell_type": "code",
   "execution_count": 13,
   "metadata": {
    "collapsed": false
   },
   "outputs": [
    {
     "name": "stdout",
     "output_type": "stream",
     "text": [
      "[array([1, 2, 3, 4, 5, 6]), 65082.676]\n"
     ]
    }
   ],
   "source": [
    "print(sess.run([x, z]))"
   ]
  },
  {
   "cell_type": "markdown",
   "metadata": {},
   "source": [
    "__1g__: Create tensor x with value [5, 2, 3, 5, 10, 6, 2, 3, 4, 2, 1, 1, 0, 9].<br/>\n",
    "Return the unique elements in x<br/>\n",
    "_Hint_: use tf.unique(). Keep in mind that tf.unique() returns a tuple.<br/>"
   ]
  },
  {
   "cell_type": "code",
   "execution_count": 14,
   "metadata": {
    "collapsed": true
   },
   "outputs": [],
   "source": [
    "x = tf.constant([5, 2, 3, 5, 10, 6, 2, 3, 4, 2, 1, 1, 0, 9])\n",
    "unique_values, indices = tf.unique(x)"
   ]
  },
  {
   "cell_type": "code",
   "execution_count": 15,
   "metadata": {
    "collapsed": false
   },
   "outputs": [
    {
     "name": "stdout",
     "output_type": "stream",
     "text": [
      "[array([ 5,  2,  3, 10,  6,  4,  1,  0,  9]), array([0, 1, 2, 0, 3, 4, 1, 2, 5, 1, 6, 6, 7, 8])]\n"
     ]
    }
   ],
   "source": [
    "print(sess.run([unique_values, indices]))"
   ]
  },
  {
   "cell_type": "markdown",
   "metadata": {},
   "source": [
    "__1h__: Create two tensors x and y of shape 300 from any normal distribution, as long as they are from the same distribution.<br/>\n",
    "Use tf.cond() to return:<br/>\n",
    " - The mean squared error of (x - y) if the average of all elements in (x - y) is negative, or\n",
    " - The sum of absolute value of all elements in the tensor (x - y) otherwise.<br/>\n",
    "_Hint_: see the Huber loss function in the lecture slides 3."
   ]
  },
  {
   "cell_type": "code",
   "execution_count": 16,
   "metadata": {
    "collapsed": true
   },
   "outputs": [],
   "source": [
    "x = tf.random_normal([300], mean=5, stddev=1)\n",
    "y = tf.random_normal([300], mean=5, stddev=1)\n",
    "average = tf.reduce_mean(x - y)\n",
    "def f1(): return tf.reduce_mean(tf.square(x - y))\n",
    "def f2(): return tf.reduce_sum(tf.abs(x - y))\n",
    "z = tf.cond(average < 0, f1, f2)"
   ]
  },
  {
   "cell_type": "code",
   "execution_count": 17,
   "metadata": {
    "collapsed": false
   },
   "outputs": [
    {
     "name": "stdout",
     "output_type": "stream",
     "text": [
      "[344.48755]\n"
     ]
    }
   ],
   "source": [
    "print(sess.run([z]))"
   ]
  }
 ],
 "metadata": {
  "anaconda-cloud": {},
  "kernelspec": {
   "display_name": "Python [conda env:tensorflow-gpu]",
   "language": "python",
   "name": "conda-env-tensorflow-gpu-py"
  },
  "language_info": {
   "codemirror_mode": {
    "name": "ipython",
    "version": 3
   },
   "file_extension": ".py",
   "mimetype": "text/x-python",
   "name": "python",
   "nbconvert_exporter": "python",
   "pygments_lexer": "ipython3",
   "version": "3.5.2"
  }
 },
 "nbformat": 4,
 "nbformat_minor": 1
}
