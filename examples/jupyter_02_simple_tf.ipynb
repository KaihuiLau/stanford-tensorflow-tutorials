{
 "cells": [
  {
   "cell_type": "markdown",
   "metadata": {},
   "source": [
    "# Simple TensorFlow Operators\n",
    "Author: Chip Huyen<br/>\n",
    "Jupyter scribe: Jiageng Liu<br/>\n",
    "Prepared for the class CS 20SI: \"TensorFlow for Deep Learning Research\"<br/>\n",
    "[cs20si.stanford.edu](https://cs20si.stanford.edu)<br/>"
   ]
  },
  {
   "cell_type": "code",
   "execution_count": null,
   "metadata": {
    "collapsed": true
   },
   "outputs": [],
   "source": [
    "import os\n",
    "os.environ['TF_CPP_MIN_LOG_LEVEL']='2'"
   ]
  },
  {
   "cell_type": "code",
   "execution_count": null,
   "metadata": {
    "collapsed": true
   },
   "outputs": [],
   "source": [
    "import numpy as np\n",
    "import tensorflow as tf"
   ]
  },
  {
   "cell_type": "code",
   "execution_count": null,
   "metadata": {},
   "outputs": [],
   "source": [
    "a = tf.constant(2)\n",
    "b = tf.constant(3)\n",
    "x = tf.add(a, b) # or, x = a + b\n",
    "with tf.Session() as sess:\n",
    "    writer = tf.summary.FileWriter('./graphs', sess.graph)\n",
    "    print(sess.run(x))\n",
    "writer.close()  # close the writer when you're done using it"
   ]
  },
  {
   "cell_type": "code",
   "execution_count": null,
   "metadata": {},
   "outputs": [],
   "source": [
    "# dot_product\n",
    "a = tf.constant([2, 2], name='a')  # Note, see below\n",
    "b = tf.constant([[0, 1], [2, 3]], name='b')\n",
    "x = tf.multiply(a, b, name='dot_product')\n",
    "with tf.Session() as sess:\n",
    "    print(sess.run(x))"
   ]
  },
  {
   "cell_type": "markdown",
   "metadata": {},
   "source": [
    "**Note**: check out the [StackOverflow discussion](https://stackoverflow.com/questions/33648167/why-do-we-use-name-parameter-when-creating-a-variable-in-tensorflow) for the reason of using the 'name' parameter."
   ]
  },
  {
   "cell_type": "code",
   "execution_count": null,
   "metadata": {},
   "outputs": [],
   "source": [
    "# tf.zeros(shape, dtype=tf.float32, name=None)\n",
    "# creates a tensor of shape and all elements will be zeros (when run in session)\n",
    "\n",
    "x = tf.zeros([2, 3], tf.int32)\n",
    "y = tf.zeros_like(x, optimize=True)\n",
    "print(y)\n",
    "print(tf.get_default_graph().as_graph_def())\n",
    "with tf.Session() as sess:\n",
    "    y = sess.run(y)"
   ]
  },
  {
   "cell_type": "code",
   "execution_count": null,
   "metadata": {
    "scrolled": false
   },
   "outputs": [],
   "source": [
    "# tf.linspace, tf.range, and np.arange\n",
    "with tf.Session() as sess:\n",
    "    print(sess.run(tf.linspace(10.0, 13.0, 4)))\n",
    "    print(sess.run(tf.range(5)))\n",
    "    for i in np.arange(5):\n",
    "        print(i)"
   ]
  },
  {
   "cell_type": "code",
   "execution_count": null,
   "metadata": {},
   "outputs": [],
   "source": [
    "# generate ten samples from a multinomial distribution\n",
    "samples = tf.multinomial(tf.constant([[1., 3., 1]]), 5)\n",
    "with tf.Session() as sess:\n",
    "    for _ in range(10):\n",
    "        print(sess.run(samples))"
   ]
  },
  {
   "cell_type": "code",
   "execution_count": null,
   "metadata": {},
   "outputs": [],
   "source": [
    "t_0 = 19\n",
    "with tf.Session() as sess:\n",
    "    print(sess.run(tf.zeros_like(t_0)))\n",
    "    print(sess.run(tf.ones_like(t_0)))"
   ]
  },
  {
   "cell_type": "code",
   "execution_count": null,
   "metadata": {
    "scrolled": true
   },
   "outputs": [],
   "source": [
    "t_1 = ['apple', 'peach', 'banana']\n",
    "with tf.Session() as sess:\n",
    "    print(sess.run(tf.zeros_like(t_1))) # ['', '', '']\n",
    "    # print(sess.run(tf.ones_like(t_1))) # TypeError: Expected string, got 1 of type 'int' instead."
   ]
  },
  {
   "cell_type": "code",
   "execution_count": null,
   "metadata": {},
   "outputs": [],
   "source": [
    "t_2 = [[True, False, False],\n",
    "       [False, False, True],\n",
    "       [False, True, False]]\n",
    "with tf.Session() as sess:\n",
    "    print(sess.run(tf.zeros_like(t_2)))\n",
    "    print(sess.run(tf.ones_like(t_2)))"
   ]
  },
  {
   "cell_type": "code",
   "execution_count": null,
   "metadata": {},
   "outputs": [],
   "source": [
    "# tf.variable_scope\n",
    "with tf.variable_scope('meh') as scope:\n",
    "    a = tf.get_variable('a', [10])\n",
    "    b = tf.get_variable('b', [100])\n",
    "    \n",
    "writer = tf.summary.FileWriter('test', tf.get_default_graph())"
   ]
  },
  {
   "cell_type": "code",
   "execution_count": null,
   "metadata": {},
   "outputs": [],
   "source": [
    "# tf.gradients\n",
    "x = tf.Variable(2.0)\n",
    "y = 2.0 * (x ** 3)\n",
    "z = 3.0 + y ** 2\n",
    "grad_z = tf.gradients(z, [x, y])\n",
    "with tf.Session() as sess:\n",
    "\tsess.run(x.initializer)\n",
    "\tprint(sess.run(grad_z))"
   ]
  }
 ],
 "metadata": {
  "kernelspec": {
   "display_name": "tensorflow",
   "language": "python",
   "name": "tensorflow"
  },
  "language_info": {
   "codemirror_mode": {
    "name": "ipython",
    "version": 3
   },
   "file_extension": ".py",
   "mimetype": "text/x-python",
   "name": "python",
   "nbconvert_exporter": "python",
   "pygments_lexer": "ipython3",
   "version": "3.5.3"
  }
 },
 "nbformat": 4,
 "nbformat_minor": 1
}
